{
  "cells": [
    {
      "cell_type": "code",
      "execution_count": null,
      "metadata": {
        "collapsed": false
      },
      "outputs": [],
      "source": [
        "%matplotlib inline"
      ]
    },
    {
      "cell_type": "markdown",
      "metadata": {},
      "source": [
        "\nPyTorch Visdom visualization example\n==================\n\nAn example of how to configuration hooks can be used to draw the learning curve\nand the loss in real time.\n"
      ]
    },
    {
      "cell_type": "code",
      "execution_count": null,
      "metadata": {
        "collapsed": false
      },
      "outputs": [],
      "source": [
        "import torch.nn\n\nimport openml\nimport openml.extensions.pytorch\nimport openml.extensions.pytorch.layers\n\nfrom visdom import Visdom\n\nimport numpy as np\nimport math"
      ]
    },
    {
      "cell_type": "markdown",
      "metadata": {},
      "source": [
        "Create a wrapper around the Vidsom communication object.\nBased on https://github.com/noagarcia/visdom-tutorial\n\n"
      ]
    },
    {
      "cell_type": "code",
      "execution_count": null,
      "metadata": {
        "collapsed": false
      },
      "outputs": [],
      "source": [
        "class VisdomLinePlotter(object):\n    \"\"\"Plots to Visdom\"\"\"\n    def __init__(self, env_name='main'):\n        self.viz = Visdom()\n        self.env = env_name\n        self.plots = {}\n\n    def plot(self, var_name, split_name, title_name, x, y):\n        if var_name not in self.plots:\n            self.plots[var_name] = self.viz.line(X=np.array([x, x]), Y=np.array([y, y]),\n                                                 env=self.env, opts=dict(\n                legend=[split_name],\n                title=title_name,\n                xlabel='Iterations',\n                ylabel=var_name\n            ))\n        else:\n            self.viz.line(X=np.array([x]), Y=np.array([y]), env=self.env,\n                          win=self.plots[var_name], name=split_name, update='append')\n\n    # This is the actual interface of the progress reporting callback. The PyTorch\n    # extension will call this function after every training iteration with the updated\n    # loss and accuracy values.\n    def __call__(self, fold: int, rep: int, epoch: int, step: int, loss: float, accuracy: float):\n        self.plot('loss', 'fold-%d-rep-%d-epoch-%d' % (fold, rep, epoch),\n                  'Class Loss', epoch * 984 + step, loss)\n\n        # Plot the accuracy only if it is present.\n        if not math.isnan(accuracy):\n            self.plot('accuracy', 'fold-%d-rep-%d-epoch-%d' % (fold, rep, epoch),\n                      'Class Accuracy', epoch * 984 + step, accuracy)"
      ]
    },
    {
      "cell_type": "markdown",
      "metadata": {},
      "source": [
        "Change the default progress callback to the Visdom plotter.\n\n"
      ]
    },
    {
      "cell_type": "code",
      "execution_count": null,
      "metadata": {
        "collapsed": false
      },
      "outputs": [],
      "source": [
        "openml.extensions.pytorch.config.progress_callback = VisdomLinePlotter()"
      ]
    },
    {
      "cell_type": "markdown",
      "metadata": {},
      "source": [
        "The network described in the sequential classification example.\n\n"
      ]
    },
    {
      "cell_type": "code",
      "execution_count": null,
      "metadata": {
        "collapsed": false
      },
      "outputs": [],
      "source": [
        "model = torch.nn.Sequential(\n    openml.extensions.pytorch.layers.Reshape((-1, 1, 28, 28)),\n    torch.nn.BatchNorm2d(num_features=1),\n    torch.nn.Conv2d(in_channels=1, out_channels=32, kernel_size=5),\n    torch.nn.LeakyReLU(),\n    torch.nn.MaxPool2d(kernel_size=2),\n    torch.nn.Conv2d(in_channels=32, out_channels=64, kernel_size=5),\n    torch.nn.LeakyReLU(),\n    torch.nn.MaxPool2d(kernel_size=2),\n    openml.extensions.pytorch.layers.Reshape((-1, 4 * 4 * 64)),\n    torch.nn.Linear(in_features=4 * 4 * 64, out_features=256),\n    torch.nn.LeakyReLU(),\n    torch.nn.Dropout(),\n    torch.nn.Linear(in_features=256, out_features=10),\n)"
      ]
    },
    {
      "cell_type": "markdown",
      "metadata": {},
      "source": [
        "Download the OpenML task for the mnist 784 dataset.\n\n"
      ]
    },
    {
      "cell_type": "code",
      "execution_count": null,
      "metadata": {
        "collapsed": false
      },
      "outputs": [],
      "source": [
        "task = openml.tasks.get_task(3573)"
      ]
    },
    {
      "cell_type": "markdown",
      "metadata": {},
      "source": [
        "Run the model on the task (requires an API key).\n\n"
      ]
    },
    {
      "cell_type": "code",
      "execution_count": null,
      "metadata": {
        "collapsed": false
      },
      "outputs": [],
      "source": [
        "run = openml.runs.run_model_on_task(model, task, avoid_duplicate_runs=False)"
      ]
    }
  ],
  "metadata": {
    "kernelspec": {
      "display_name": "Python 3",
      "language": "python",
      "name": "python3"
    },
    "language_info": {
      "codemirror_mode": {
        "name": "ipython",
        "version": 3
      },
      "file_extension": ".py",
      "mimetype": "text/x-python",
      "name": "python",
      "nbconvert_exporter": "python",
      "pygments_lexer": "ipython3",
      "version": "3.7.3"
    }
  },
  "nbformat": 4,
  "nbformat_minor": 0
}