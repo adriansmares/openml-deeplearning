{
  "cells": [
    {
      "cell_type": "code",
      "execution_count": null,
      "metadata": {
        "collapsed": false
      },
      "outputs": [],
      "source": [
        "%matplotlib inline"
      ]
    },
    {
      "cell_type": "markdown",
      "metadata": {},
      "source": [
        "\n# Datasets\n\n\nHow to list and download datasets.\n"
      ]
    },
    {
      "cell_type": "code",
      "execution_count": null,
      "metadata": {
        "collapsed": false
      },
      "outputs": [],
      "source": [
        "import openml\nimport pandas as pd"
      ]
    },
    {
      "cell_type": "markdown",
      "metadata": {},
      "source": [
        "Exercise 0\n**********\n\n* List datasets\n  * Use the output_format parameter to select output type\n  * Default gives 'dict' (other option: 'dataframe')\n\n"
      ]
    },
    {
      "cell_type": "code",
      "execution_count": null,
      "metadata": {
        "collapsed": false
      },
      "outputs": [],
      "source": [
        "openml_list = openml.datasets.list_datasets()  # returns a dict\n\n# Show a nice table with some key data properties\ndatalist = pd.DataFrame.from_dict(openml_list, orient='index')\ndatalist = datalist[[\n    'did', 'name', 'NumberOfInstances',\n    'NumberOfFeatures', 'NumberOfClasses'\n]]\n\nprint(\"First 10 of %s datasets...\" % len(datalist))\ndatalist.head(n=10)\n\n# The same can be done with lesser lines of code\nopenml_df = openml.datasets.list_datasets(output_format='dataframe')\nopenml_df.head(n=10)"
      ]
    },
    {
      "cell_type": "markdown",
      "metadata": {},
      "source": [
        "Exercise 1\n**********\n\n* Find datasets with more than 10000 examples.\n* Find a dataset called 'eeg_eye_state'.\n* Find all datasets with more than 50 classes.\n\n"
      ]
    },
    {
      "cell_type": "code",
      "execution_count": null,
      "metadata": {
        "collapsed": false
      },
      "outputs": [],
      "source": [
        "datalist[datalist.NumberOfInstances > 10000\n         ].sort_values(['NumberOfInstances']).head(n=20)"
      ]
    },
    {
      "cell_type": "code",
      "execution_count": null,
      "metadata": {
        "collapsed": false
      },
      "outputs": [],
      "source": [
        "datalist.query('name == \"eeg-eye-state\"')"
      ]
    },
    {
      "cell_type": "code",
      "execution_count": null,
      "metadata": {
        "collapsed": false
      },
      "outputs": [],
      "source": [
        "datalist.query('NumberOfClasses > 50')"
      ]
    },
    {
      "cell_type": "markdown",
      "metadata": {},
      "source": [
        "Download datasets\n=================\n\n"
      ]
    },
    {
      "cell_type": "code",
      "execution_count": null,
      "metadata": {
        "collapsed": false
      },
      "outputs": [],
      "source": [
        "# This is done based on the dataset ID.\ndataset = openml.datasets.get_dataset(1471)\n\n# Print a summary\nprint(\"This is dataset '%s', the target feature is '%s'\" %\n      (dataset.name, dataset.default_target_attribute))\nprint(\"URL: %s\" % dataset.url)\nprint(dataset.description[:500])"
      ]
    },
    {
      "cell_type": "markdown",
      "metadata": {},
      "source": [
        "Get the actual data.\n\nThe dataset can be returned in 2 possible formats: as a NumPy array, a SciPy\nsparse matrix, or as a Pandas DataFrame (or SparseDataFrame). The format is\ncontrolled with the parameter ``dataset_format`` which can be either 'array'\n(default) or 'dataframe'. Let's first build our dataset from a NumPy array\nand manually create a dataframe.\n\n"
      ]
    },
    {
      "cell_type": "code",
      "execution_count": null,
      "metadata": {
        "collapsed": false
      },
      "outputs": [],
      "source": [
        "X, y, categorical_indicator, attribute_names = dataset.get_data(\n    dataset_format='array',\n    target=dataset.default_target_attribute\n)\neeg = pd.DataFrame(X, columns=attribute_names)\neeg['class'] = y\nprint(eeg[:10])"
      ]
    },
    {
      "cell_type": "markdown",
      "metadata": {},
      "source": [
        "Instead of manually creating the dataframe, you can already request a\ndataframe with the correct dtypes.\n\n"
      ]
    },
    {
      "cell_type": "code",
      "execution_count": null,
      "metadata": {
        "collapsed": false
      },
      "outputs": [],
      "source": [
        "X, y, categorical_indicator, attribute_names = dataset.get_data(\n    target=dataset.default_target_attribute,\n    dataset_format='dataframe'\n)\nprint(X.head())\nprint(X.info())"
      ]
    },
    {
      "cell_type": "markdown",
      "metadata": {},
      "source": [
        "Sometimes you only need access to a dataset's metadata.\nIn those cases, you can download the dataset without downloading the\ndata file. The dataset object can be used as normal.\nWhenever you use any functionality that requires the data,\nsuch as `get_data`, the data will be downloaded.\n\n"
      ]
    },
    {
      "cell_type": "code",
      "execution_count": null,
      "metadata": {
        "collapsed": false
      },
      "outputs": [],
      "source": [
        "dataset = openml.datasets.get_dataset(1471, download_data=False)"
      ]
    },
    {
      "cell_type": "markdown",
      "metadata": {},
      "source": [
        "Exercise 2\n**********\n* Explore the data visually.\n\n"
      ]
    },
    {
      "cell_type": "code",
      "execution_count": null,
      "metadata": {
        "collapsed": false
      },
      "outputs": [],
      "source": [
        "eegs = eeg.sample(n=1000)\n_ = pd.plotting.scatter_matrix(\n    eegs.iloc[:100, :4],\n    c=eegs[:100]['class'],\n    figsize=(10, 10),\n    marker='o',\n    hist_kwds={'bins': 20},\n    alpha=.8,\n    cmap='plasma'\n)"
      ]
    }
  ],
  "metadata": {
    "kernelspec": {
      "display_name": "Python 3",
      "language": "python",
      "name": "python3"
    },
    "language_info": {
      "codemirror_mode": {
        "name": "ipython",
        "version": 3
      },
      "file_extension": ".py",
      "mimetype": "text/x-python",
      "name": "python",
      "nbconvert_exporter": "python",
      "pygments_lexer": "ipython3",
      "version": "3.7.3"
    }
  },
  "nbformat": 4,
  "nbformat_minor": 0
}