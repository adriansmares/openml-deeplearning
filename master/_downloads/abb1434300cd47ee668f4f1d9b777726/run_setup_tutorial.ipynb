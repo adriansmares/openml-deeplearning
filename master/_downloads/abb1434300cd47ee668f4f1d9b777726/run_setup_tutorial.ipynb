{
  "cells": [
    {
      "cell_type": "code",
      "execution_count": null,
      "metadata": {
        "collapsed": false
      },
      "outputs": [],
      "source": [
        "%matplotlib inline"
      ]
    },
    {
      "cell_type": "markdown",
      "metadata": {},
      "source": [
        "\n# Run Setup\n\n\nBy: Jan N. van Rijn\n\nOne of the key features of the openml-python library is that is allows to\nreinstantiate flows with hyperparameter settings that were uploaded before.\nThis tutorial uses the concept of setups. Although setups are not extensively\ndescribed in the OpenML documentation (because most users will not directly\nuse them), they form a important concept within OpenML distinguishing between\nhyperparameter configurations.\nA setup is the combination of a flow with all its hyperparameters set.\n\nA key requirement for reinstantiating a flow is to have the same scikit-learn\nversion as the flow that was uploaded. However, this tutorial will upload the\nflow (that will later be reinstantiated) itself, so it can be ran with any\nscikit-learn version that is supported by this library. In this case, the\nrequirement of the corresponding scikit-learn versions is automatically met.\n\nIn this tutorial we will\n    1) Create a flow and use it to solve a task;\n    2) Download the flow, reinstantiate the model with same hyperparameters,\n       and solve the same task again;\n    3) We will verify that the obtained results are exactly the same.\n\n<div class=\"alert alert-danger\"><h4>Warning</h4><p>This example uploads data. For that reason, this example\n   connects to the test server at test.openml.org. This prevents the main\n   server from crowding with example datasets, tasks, runs, and so on.</p></div>\n"
      ]
    },
    {
      "cell_type": "code",
      "execution_count": null,
      "metadata": {
        "collapsed": false
      },
      "outputs": [],
      "source": [
        "import logging\nimport numpy as np\nimport openml\nimport sklearn.ensemble\nimport sklearn.impute\nimport sklearn.preprocessing\n\n\nroot = logging.getLogger()\nroot.setLevel(logging.INFO)\nopenml.config.start_using_configuration_for_example()"
      ]
    },
    {
      "cell_type": "markdown",
      "metadata": {},
      "source": [
        "1) Create a flow and use it to solve a task\n##############################################################################\n\n"
      ]
    },
    {
      "cell_type": "code",
      "execution_count": null,
      "metadata": {
        "collapsed": false
      },
      "outputs": [],
      "source": [
        "# first, let's download the task that we are interested in\ntask = openml.tasks.get_task(6)\n\n\n# we will create a fairly complex model, with many preprocessing components and\n# many potential hyperparameters. Of course, the model can be as complex and as\n# easy as you want it to be\nmodel_original = sklearn.pipeline.make_pipeline(\n    sklearn.impute.SimpleImputer(),\n    sklearn.ensemble.RandomForestClassifier()\n)\n\n\n# Let's change some hyperparameters. Of course, in any good application we\n# would tune them using, e.g., Random Search or Bayesian Optimization, but for\n# the purpose of this tutorial we set them to some specific values that might\n# or might not be optimal\nhyperparameters_original = {\n    'simpleimputer__strategy': 'median',\n    'randomforestclassifier__criterion': 'entropy',\n    'randomforestclassifier__max_features': 0.2,\n    'randomforestclassifier__min_samples_leaf': 1,\n    'randomforestclassifier__n_estimators': 16,\n    'randomforestclassifier__random_state': 42,\n}\nmodel_original.set_params(**hyperparameters_original)\n\n# solve the task and upload the result (this implicitly creates the flow)\nrun = openml.runs.run_model_on_task(\n    model_original,\n    task,\n    avoid_duplicate_runs=False)\nrun_original = run.publish()  # this implicitly uploads the flow"
      ]
    },
    {
      "cell_type": "markdown",
      "metadata": {},
      "source": [
        "2) Download the flow and solve the same task again.\n##############################################################################\n\n"
      ]
    },
    {
      "cell_type": "code",
      "execution_count": null,
      "metadata": {
        "collapsed": false
      },
      "outputs": [],
      "source": [
        "# obtain setup id (note that the setup id is assigned by the OpenML server -\n# therefore it was not yet available in our local copy of the run)\nrun_downloaded = openml.runs.get_run(run_original.run_id)\nsetup_id = run_downloaded.setup_id\n\n# after this, we can easily reinstantiate the model\nmodel_duplicate = openml.setups.initialize_model(setup_id)\n# it will automatically have all the hyperparameters set\n\n# and run the task again\nrun_duplicate = openml.runs.run_model_on_task(\n    model_duplicate, task, avoid_duplicate_runs=False)"
      ]
    },
    {
      "cell_type": "markdown",
      "metadata": {},
      "source": [
        "3) We will verify that the obtained results are exactly the same.\n##############################################################################\n\n"
      ]
    },
    {
      "cell_type": "code",
      "execution_count": null,
      "metadata": {
        "collapsed": false
      },
      "outputs": [],
      "source": [
        "# the run has stored all predictions in the field data content\nnp.testing.assert_array_equal(run_original.data_content,\n                              run_duplicate.data_content)"
      ]
    },
    {
      "cell_type": "code",
      "execution_count": null,
      "metadata": {
        "collapsed": false
      },
      "outputs": [],
      "source": [
        "openml.config.stop_using_configuration_for_example()"
      ]
    }
  ],
  "metadata": {
    "kernelspec": {
      "display_name": "Python 3",
      "language": "python",
      "name": "python3"
    },
    "language_info": {
      "codemirror_mode": {
        "name": "ipython",
        "version": 3
      },
      "file_extension": ".py",
      "mimetype": "text/x-python",
      "name": "python",
      "nbconvert_exporter": "python",
      "pygments_lexer": "ipython3",
      "version": "3.7.3"
    }
  },
  "nbformat": 4,
  "nbformat_minor": 0
}