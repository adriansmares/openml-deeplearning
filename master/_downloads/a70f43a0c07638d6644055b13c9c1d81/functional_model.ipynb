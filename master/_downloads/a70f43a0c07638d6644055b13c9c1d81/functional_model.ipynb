{
  "cells": [
    {
      "cell_type": "code",
      "execution_count": null,
      "metadata": {
        "collapsed": false
      },
      "outputs": [],
      "source": [
        "%matplotlib inline"
      ]
    },
    {
      "cell_type": "markdown",
      "metadata": {},
      "source": [
        "\nKeras functional model example\n==================\n\nAn example of a functional (non-sequential) network used as an OpenML flow.\n"
      ]
    },
    {
      "cell_type": "code",
      "execution_count": null,
      "metadata": {
        "collapsed": false
      },
      "outputs": [],
      "source": [
        "import keras\n\nimport openml.extensions.keras"
      ]
    },
    {
      "cell_type": "markdown",
      "metadata": {},
      "source": [
        "Define an input layer for the network. In this example we are using the\ngerman credit dataset, which contains 20 features, and as such the input\nshape will be (20,).\n\n"
      ]
    },
    {
      "cell_type": "code",
      "execution_count": null,
      "metadata": {
        "collapsed": false
      },
      "outputs": [],
      "source": [
        "inp = keras.layers.Input(shape=(20,))\n\n# Normalize the input data in order to speed up the training process\nnormalized = keras.layers.BatchNormalization()(inp)\n\n# Fork the input data into two parallel dense layers\n# which use ReLU activation.\ndense1 = keras.layers.Dense(units=64, activation='relu')(normalized)\ndense2 = keras.layers.Dense(units=64, activation='relu')(normalized)\n\n# Merge the results of the two parallel layers into one merge layer.\nmerged = keras.layers.concatenate([dense1, dense2])\n\n# Introduce an additional Dense layer in combination to a dropout layer.\ndense3 = keras.layers.Dense(units=64, activation='sigmoid')(merged)\ndropout1 = keras.layers.Dropout(rate=0.25)(dense3)\n# Finally, output the probabiltiies in the final dense layer using\n# softmax activation.\ndense4 = keras.layers.Dense(units=2, activation='softmax')(dropout1)\n\n# Construct this model which uses our functional neural network\n# with one input and one output.\nmodel = keras.models.Model(inputs=[inp], outputs=[dense4])\n\n# Compile it using the Adam optimizer while targeting accuracy.\nmodel.compile(optimizer='adam',\n              loss='sparse_categorical_crossentropy',\n              metrics=['accuracy'])"
      ]
    },
    {
      "cell_type": "markdown",
      "metadata": {},
      "source": [
        "Download the OpenML task for the german credit card dataset.\n\n"
      ]
    },
    {
      "cell_type": "code",
      "execution_count": null,
      "metadata": {
        "collapsed": false
      },
      "outputs": [],
      "source": [
        "task = openml.tasks.get_task(31)"
      ]
    },
    {
      "cell_type": "markdown",
      "metadata": {},
      "source": [
        "Run the Keras model on the task (requires an API key).\n\n"
      ]
    },
    {
      "cell_type": "code",
      "execution_count": null,
      "metadata": {
        "collapsed": false
      },
      "outputs": [],
      "source": [
        "run = openml.runs.run_model_on_task(model, task, avoid_duplicate_runs=False)\n# Publish the experiment on OpenML (optional, requires an API key).\nrun.publish()\n\nprint('URL for run: %s/run/%d' % (openml.config.server, run.run_id))"
      ]
    }
  ],
  "metadata": {
    "kernelspec": {
      "display_name": "Python 3",
      "language": "python",
      "name": "python3"
    },
    "language_info": {
      "codemirror_mode": {
        "name": "ipython",
        "version": 3
      },
      "file_extension": ".py",
      "mimetype": "text/x-python",
      "name": "python",
      "nbconvert_exporter": "python",
      "pygments_lexer": "ipython3",
      "version": "3.7.3"
    }
  },
  "nbformat": 4,
  "nbformat_minor": 0
}