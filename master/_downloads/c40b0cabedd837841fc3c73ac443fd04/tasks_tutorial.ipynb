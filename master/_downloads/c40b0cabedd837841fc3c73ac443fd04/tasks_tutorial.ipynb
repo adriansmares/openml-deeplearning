{
  "cells": [
    {
      "cell_type": "code",
      "execution_count": null,
      "metadata": {
        "collapsed": false
      },
      "outputs": [],
      "source": [
        "%matplotlib inline"
      ]
    },
    {
      "cell_type": "markdown",
      "metadata": {},
      "source": [
        "\nTasks\n=====\n\nA tutorial on how to list and download tasks.\n"
      ]
    },
    {
      "cell_type": "code",
      "execution_count": null,
      "metadata": {
        "collapsed": false
      },
      "outputs": [],
      "source": [
        "import openml\nimport pandas as pd\nfrom pprint import pprint"
      ]
    },
    {
      "cell_type": "markdown",
      "metadata": {},
      "source": [
        "Tasks are identified by IDs and can be accessed in two different ways:\n\n1. In a list providing basic information on all tasks available on OpenML.\nThis function will not download the actual tasks, but will instead download\nmeta data that can be used to filter the tasks and retrieve a set of IDs.\nWe can filter this list, for example, we can only list tasks having a\nspecial tag or only tasks for a specific target such as\n*supervised classification*.\n\n2. A single task by its ID. It contains all meta information, the target\nmetric, the splits and an iterator which can be used to access the\nsplits in a useful manner.\n\n"
      ]
    },
    {
      "cell_type": "markdown",
      "metadata": {},
      "source": [
        "Listing tasks\n^^^^^^^^^^^^^\n\nWe will start by simply listing only *supervised classification* tasks:\n\n"
      ]
    },
    {
      "cell_type": "code",
      "execution_count": null,
      "metadata": {
        "collapsed": false
      },
      "outputs": [],
      "source": [
        "tasks = openml.tasks.list_tasks(task_type_id=1)"
      ]
    },
    {
      "cell_type": "markdown",
      "metadata": {},
      "source": [
        "**openml.tasks.list_tasks()** returns a dictionary of dictionaries, we convert it into a\n`pandas dataframe <http://pandas.pydata.org/pandas-docs/stable/generated/pandas.DataFrame.html>`_\nto have better visualization and easier access:\n\n"
      ]
    },
    {
      "cell_type": "code",
      "execution_count": null,
      "metadata": {
        "collapsed": false
      },
      "outputs": [],
      "source": [
        "tasks = pd.DataFrame.from_dict(tasks, orient='index')\nprint(tasks.columns)\nprint(\"First 5 of %s tasks:\" % len(tasks))\npprint(tasks.head())\n\n# The same can be obtained through lesser lines of code\ntasks_df = openml.tasks.list_tasks(task_type_id=1, output_format='dataframe')\npprint(tasks_df.head())"
      ]
    },
    {
      "cell_type": "markdown",
      "metadata": {},
      "source": [
        "We can filter the list of tasks to only contain datasets with more than\n500 samples, but less than 1000 samples:\n\n"
      ]
    },
    {
      "cell_type": "code",
      "execution_count": null,
      "metadata": {
        "collapsed": false
      },
      "outputs": [],
      "source": [
        "filtered_tasks = tasks.query('NumberOfInstances > 500 and NumberOfInstances < 1000')\nprint(list(filtered_tasks.index))"
      ]
    },
    {
      "cell_type": "code",
      "execution_count": null,
      "metadata": {
        "collapsed": false
      },
      "outputs": [],
      "source": [
        "# Number of tasks\nprint(len(filtered_tasks))"
      ]
    },
    {
      "cell_type": "markdown",
      "metadata": {},
      "source": [
        "Then, we can further restrict the tasks to all have the same resampling strategy:\n\n"
      ]
    },
    {
      "cell_type": "code",
      "execution_count": null,
      "metadata": {
        "collapsed": false
      },
      "outputs": [],
      "source": [
        "filtered_tasks = filtered_tasks.query('estimation_procedure == \"10-fold Crossvalidation\"')\nprint(list(filtered_tasks.index))"
      ]
    },
    {
      "cell_type": "code",
      "execution_count": null,
      "metadata": {
        "collapsed": false
      },
      "outputs": [],
      "source": [
        "# Number of tasks\nprint(len(filtered_tasks))"
      ]
    },
    {
      "cell_type": "markdown",
      "metadata": {},
      "source": [
        "Resampling strategies can be found on the\n`OpenML Website <http://www.openml.org/search?type=measure&q=estimation%20procedure>`_.\n\nSimilar to listing tasks by task type, we can list tasks by tags:\n\n"
      ]
    },
    {
      "cell_type": "code",
      "execution_count": null,
      "metadata": {
        "collapsed": false
      },
      "outputs": [],
      "source": [
        "tasks = openml.tasks.list_tasks(tag='OpenML100')\ntasks = pd.DataFrame.from_dict(tasks, orient='index')\nprint(\"First 5 of %s tasks:\" % len(tasks))\npprint(tasks.head())"
      ]
    },
    {
      "cell_type": "markdown",
      "metadata": {},
      "source": [
        "Furthermore, we can list tasks based on the dataset id:\n\n"
      ]
    },
    {
      "cell_type": "code",
      "execution_count": null,
      "metadata": {
        "collapsed": false
      },
      "outputs": [],
      "source": [
        "tasks = openml.tasks.list_tasks(data_id=1471)\ntasks = pd.DataFrame.from_dict(tasks, orient='index')\nprint(\"First 5 of %s tasks:\" % len(tasks))\npprint(tasks.head())"
      ]
    },
    {
      "cell_type": "markdown",
      "metadata": {},
      "source": [
        "In addition, a size limit and an offset can be applied both separately and simultaneously:\n\n"
      ]
    },
    {
      "cell_type": "code",
      "execution_count": null,
      "metadata": {
        "collapsed": false
      },
      "outputs": [],
      "source": [
        "tasks = openml.tasks.list_tasks(size=10, offset=50)\ntasks = pd.DataFrame.from_dict(tasks, orient='index')\npprint(tasks)"
      ]
    },
    {
      "cell_type": "markdown",
      "metadata": {},
      "source": [
        "**OpenML 100**\nis a curated list of 100 tasks to start using OpenML. They are all\nsupervised classification tasks with more than 500 instances and less than 50000\ninstances per task. To make things easier, the tasks do not contain highly\nunbalanced data and sparse data. However, the tasks include missing values and\ncategorical features. You can find out more about the *OpenML 100* on\n`the OpenML benchmarking page <https://www.openml.org/guide/benchmark>`_.\n\nFinally, it is also possible to list all tasks on OpenML with:\n\n"
      ]
    },
    {
      "cell_type": "code",
      "execution_count": null,
      "metadata": {
        "collapsed": false
      },
      "outputs": [],
      "source": [
        "tasks = openml.tasks.list_tasks()\ntasks = pd.DataFrame.from_dict(tasks, orient='index')\nprint(len(tasks))"
      ]
    },
    {
      "cell_type": "markdown",
      "metadata": {},
      "source": [
        "Exercise\n########\n\nSearch for the tasks on the 'eeg-eye-state' dataset.\n\n"
      ]
    },
    {
      "cell_type": "code",
      "execution_count": null,
      "metadata": {
        "collapsed": false
      },
      "outputs": [],
      "source": [
        "tasks.query('name==\"eeg-eye-state\"')"
      ]
    },
    {
      "cell_type": "markdown",
      "metadata": {},
      "source": [
        "Downloading tasks\n^^^^^^^^^^^^^^^^^\n\nWe provide two functions to download tasks, one which downloads only a\nsingle task by its ID, and one which takes a list of IDs and downloads\nall of these tasks:\n\n"
      ]
    },
    {
      "cell_type": "code",
      "execution_count": null,
      "metadata": {
        "collapsed": false
      },
      "outputs": [],
      "source": [
        "task_id = 31\ntask = openml.tasks.get_task(task_id)"
      ]
    },
    {
      "cell_type": "markdown",
      "metadata": {},
      "source": [
        "Properties of the task are stored as member variables:\n\n"
      ]
    },
    {
      "cell_type": "code",
      "execution_count": null,
      "metadata": {
        "collapsed": false
      },
      "outputs": [],
      "source": [
        "pprint(vars(task))"
      ]
    },
    {
      "cell_type": "markdown",
      "metadata": {},
      "source": [
        "And:\n\n"
      ]
    },
    {
      "cell_type": "code",
      "execution_count": null,
      "metadata": {
        "collapsed": false
      },
      "outputs": [],
      "source": [
        "ids = [2, 1891, 31, 9983]\ntasks = openml.tasks.get_tasks(ids)\npprint(tasks[0])"
      ]
    }
  ],
  "metadata": {
    "kernelspec": {
      "display_name": "Python 3",
      "language": "python",
      "name": "python3"
    },
    "language_info": {
      "codemirror_mode": {
        "name": "ipython",
        "version": 3
      },
      "file_extension": ".py",
      "mimetype": "text/x-python",
      "name": "python",
      "nbconvert_exporter": "python",
      "pygments_lexer": "ipython3",
      "version": "3.7.3"
    }
  },
  "nbformat": 4,
  "nbformat_minor": 0
}