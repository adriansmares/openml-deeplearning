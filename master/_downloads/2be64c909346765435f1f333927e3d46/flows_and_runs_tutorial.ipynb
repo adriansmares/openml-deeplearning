{
  "cells": [
    {
      "cell_type": "code",
      "execution_count": null,
      "metadata": {
        "collapsed": false
      },
      "outputs": [],
      "source": [
        "%matplotlib inline"
      ]
    },
    {
      "cell_type": "markdown",
      "metadata": {},
      "source": [
        "\nFlows and Runs\n==============\n\nHow to train/run a model and how to upload the results.\n"
      ]
    },
    {
      "cell_type": "code",
      "execution_count": null,
      "metadata": {
        "collapsed": false
      },
      "outputs": [],
      "source": [
        "import openml\nfrom pprint import pprint\nfrom sklearn import ensemble, neighbors, preprocessing, pipeline, tree"
      ]
    },
    {
      "cell_type": "markdown",
      "metadata": {},
      "source": [
        "Train machine learning models\n^^^^^^^^^^^^^^^^^^^^^^^^^^^^^\n\nTrain a scikit-learn model on the data manually.\n\n<div class=\"alert alert-danger\"><h4>Warning</h4><p>This example uploads data. For that reason, this example\n  connects to the test server at test.openml.org. This prevents the main\n  server from crowding with example datasets, tasks, runs, and so on.</p></div>\n\n"
      ]
    },
    {
      "cell_type": "code",
      "execution_count": null,
      "metadata": {
        "collapsed": false
      },
      "outputs": [],
      "source": [
        "openml.config.start_using_configuration_for_example()\n# NOTE: We are using dataset 68 from the test server: https://test.openml.org/d/68\ndataset = openml.datasets.get_dataset(68)\nX, y, categorical_indicator, attribute_names = dataset.get_data(\n    dataset_format='array',\n    target=dataset.default_target_attribute\n)\nclf = neighbors.KNeighborsClassifier(n_neighbors=1)\nclf.fit(X, y)"
      ]
    },
    {
      "cell_type": "markdown",
      "metadata": {},
      "source": [
        "You can also ask for meta-data to automatically preprocess the data.\n\n* e.g. categorical features -> do feature encoding\n\n"
      ]
    },
    {
      "cell_type": "code",
      "execution_count": null,
      "metadata": {
        "collapsed": false
      },
      "outputs": [],
      "source": [
        "dataset = openml.datasets.get_dataset(17)\nX, y, categorical_indicator, attribute_names = dataset.get_data(\n    dataset_format='array',\n    target=dataset.default_target_attribute\n)\nprint(\"Categorical features: {}\".format(categorical_indicator))\nenc = preprocessing.OneHotEncoder(categorical_features=categorical_indicator)\nX = enc.fit_transform(X)\nclf.fit(X, y)"
      ]
    },
    {
      "cell_type": "markdown",
      "metadata": {},
      "source": [
        "Runs: Easily explore models\n^^^^^^^^^^^^^^^^^^^^^^^^^^^\nWe can run (many) scikit-learn algorithms on (many) OpenML tasks.\n\n"
      ]
    },
    {
      "cell_type": "code",
      "execution_count": null,
      "metadata": {
        "collapsed": false
      },
      "outputs": [],
      "source": [
        "# Get a task\ntask = openml.tasks.get_task(403)\n\n# Build any classifier or pipeline\nclf = tree.ExtraTreeClassifier()\n\n# Run the flow\nrun = openml.runs.run_model_on_task(clf, task)\n\n# pprint(vars(run), depth=2)"
      ]
    },
    {
      "cell_type": "markdown",
      "metadata": {},
      "source": [
        "Share the run on the OpenML server\n\nSo far the run is only available locally. By calling the publish function,\nthe run is sent to the OpenML server:\n\n"
      ]
    },
    {
      "cell_type": "code",
      "execution_count": null,
      "metadata": {
        "collapsed": false
      },
      "outputs": [],
      "source": [
        "myrun = run.publish()\n# For this tutorial, our configuration publishes to the test server\n# as to not pollute the main server.\nprint(\"Uploaded to http://test.openml.org/r/\" + str(myrun.run_id))"
      ]
    },
    {
      "cell_type": "markdown",
      "metadata": {},
      "source": [
        "We can now also inspect the flow object which was automatically created:\n\n"
      ]
    },
    {
      "cell_type": "code",
      "execution_count": null,
      "metadata": {
        "collapsed": false
      },
      "outputs": [],
      "source": [
        "flow = openml.flows.get_flow(run.flow_id)\npprint(vars(flow), depth=1)"
      ]
    },
    {
      "cell_type": "markdown",
      "metadata": {},
      "source": [
        "It also works with pipelines\n############################\n\nWhen you need to handle 'dirty' data, build pipelines to model then automatically.\n\n"
      ]
    },
    {
      "cell_type": "code",
      "execution_count": null,
      "metadata": {
        "collapsed": false
      },
      "outputs": [],
      "source": [
        "task = openml.tasks.get_task(115)\npipe = pipeline.Pipeline(steps=[\n    ('Imputer', preprocessing.Imputer(strategy='median')),\n    ('OneHotEncoder', preprocessing.OneHotEncoder(sparse=False, handle_unknown='ignore')),\n    ('Classifier', ensemble.RandomForestClassifier())\n])\n\nrun = openml.runs.run_model_on_task(pipe, task, avoid_duplicate_runs=False)\nmyrun = run.publish()\nprint(\"Uploaded to http://test.openml.org/r/\" + str(myrun.run_id))"
      ]
    },
    {
      "cell_type": "markdown",
      "metadata": {},
      "source": [
        "Running flows on tasks offline for later upload\n^^^^^^^^^^^^^^^^^^^^^^^^^^^^^^^^^^^^^^^^^^^^^^^\nFor those scenarios where there is no access to internet, it is possible to run\na model on a task without uploading results or flows to the server immediately.\n\n"
      ]
    },
    {
      "cell_type": "code",
      "execution_count": null,
      "metadata": {
        "collapsed": false
      },
      "outputs": [],
      "source": [
        "# To perform the following line offline, it is required to have been called before\n# such that the task is cached on the local openml cache directory:\ntask = openml.tasks.get_task(6)\n\n# The following lines can then be executed offline:\nrun = openml.runs.run_model_on_task(\n    pipe,\n    task,\n    avoid_duplicate_runs=False,\n    upload_flow=False)\n\n# The run may be stored offline, and the flow will be stored along with it:\nrun.to_filesystem(directory='myrun')\n\n# They made later be loaded and uploaded\nrun = openml.runs.OpenMLRun.from_filesystem(directory='myrun')\nrun.publish()\n\n# Publishing the run will automatically upload the related flow if\n# it does not yet exist on the server."
      ]
    },
    {
      "cell_type": "markdown",
      "metadata": {},
      "source": [
        "Alternatively, one can also directly run flows.\n\n"
      ]
    },
    {
      "cell_type": "code",
      "execution_count": null,
      "metadata": {
        "collapsed": false
      },
      "outputs": [],
      "source": [
        "# Get a task\ntask = openml.tasks.get_task(403)\n\n# Build any classifier or pipeline\nclf = tree.ExtraTreeClassifier()\n\n# Obtain the scikit-learn extension interface to convert the classifier\n# into a flow object.\nextension = openml.extensions.get_extension_by_model(clf)\nflow = extension.model_to_flow(clf)\n\nrun = openml.runs.run_flow_on_task(flow, task)"
      ]
    },
    {
      "cell_type": "markdown",
      "metadata": {},
      "source": [
        "Challenge\n^^^^^^^^^\n\nTry to build the best possible models on several OpenML tasks,\ncompare your results with the rest of the class and learn from\nthem. Some tasks you could try (or browse openml.org):\n\n* EEG eye state: data_id:`1471 <http://www.openml.org/d/1471>`_,\n  task_id:`14951 <http://www.openml.org/t/14951>`_\n* Volcanoes on Venus: data_id:`1527 <http://www.openml.org/d/1527>`_,\n  task_id:`10103 <http://www.openml.org/t/10103>`_\n* Walking activity: data_id:`1509 <http://www.openml.org/d/1509>`_,\n  task_id:`9945 <http://www.openml.org/t/9945>`_, 150k instances.\n* Covertype (Satellite): data_id:`150 <http://www.openml.org/d/150>`_,\n  task_id:`218 <http://www.openml.org/t/218>`_, 500k instances.\n* Higgs (Physics): data_id:`23512 <http://www.openml.org/d/23512>`_,\n  task_id:`52950 <http://www.openml.org/t/52950>`_, 100k instances, missing values.\n\n"
      ]
    },
    {
      "cell_type": "code",
      "execution_count": null,
      "metadata": {
        "collapsed": false
      },
      "outputs": [],
      "source": [
        "# Easy benchmarking:\nfor task_id in [115, ]:  # Add further tasks. Disclaimer: they might take some time\n    task = openml.tasks.get_task(task_id)\n    data = openml.datasets.get_dataset(task.dataset_id)\n    clf = neighbors.KNeighborsClassifier(n_neighbors=5)\n\n    run = openml.runs.run_model_on_task(clf, task, avoid_duplicate_runs=False)\n    myrun = run.publish()\n    print(\"kNN on %s: http://test.openml.org/r/%d\" % (data.name, myrun.run_id))"
      ]
    },
    {
      "cell_type": "code",
      "execution_count": null,
      "metadata": {
        "collapsed": false
      },
      "outputs": [],
      "source": [
        "openml.config.stop_using_configuration_for_example()"
      ]
    }
  ],
  "metadata": {
    "kernelspec": {
      "display_name": "Python 3",
      "language": "python",
      "name": "python3"
    },
    "language_info": {
      "codemirror_mode": {
        "name": "ipython",
        "version": 3
      },
      "file_extension": ".py",
      "mimetype": "text/x-python",
      "name": "python",
      "nbconvert_exporter": "python",
      "pygments_lexer": "ipython3",
      "version": "3.7.3"
    }
  },
  "nbformat": 4,
  "nbformat_minor": 0
}