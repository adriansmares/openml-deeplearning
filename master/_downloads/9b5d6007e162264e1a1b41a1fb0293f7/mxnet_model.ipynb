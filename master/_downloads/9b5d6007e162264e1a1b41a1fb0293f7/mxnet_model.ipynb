{
  "cells": [
    {
      "cell_type": "code",
      "execution_count": null,
      "metadata": {
        "collapsed": false
      },
      "outputs": [],
      "source": [
        "%matplotlib inline"
      ]
    },
    {
      "cell_type": "markdown",
      "metadata": {},
      "source": [
        "\nONNX model example\n==================\n\nAn example of a sequential network that solves a supervised classification task used\n as an OpenML flow. Uses MXNet as backend.\n"
      ]
    },
    {
      "cell_type": "code",
      "execution_count": null,
      "metadata": {
        "collapsed": false
      },
      "outputs": [],
      "source": [
        "import openml.extensions.onnx\nimport onnx\nimport os\nimport mxnet as mx\nimport mxnet.contrib.onnx as onnx_mxnet\n\nONNX_FILE_PATH_DEFAULT = 'model.onnx'\nMXNET_PARAMS_PATH_DEFAULT = './model-0001.params'\nMXNET_SYMBOL_PATH_DEFAULT = './model-symbol.json'"
      ]
    },
    {
      "cell_type": "markdown",
      "metadata": {},
      "source": [
        "Obtain task with training data\n\n"
      ]
    },
    {
      "cell_type": "code",
      "execution_count": null,
      "metadata": {
        "collapsed": false
      },
      "outputs": [],
      "source": [
        "task = openml.tasks.get_task(10101)\nX, y = task.get_X_and_y()\ntrain_indices, test_indices = task.get_train_test_split_indices(\n    repeat=0, fold=0, sample=0)\nX_train = X[train_indices]\ny_train = y[train_indices]\nX_test = X[test_indices]\ny_test = y[test_indices]"
      ]
    },
    {
      "cell_type": "markdown",
      "metadata": {},
      "source": [
        "Compute shapes of input and output\n\n"
      ]
    },
    {
      "cell_type": "code",
      "execution_count": null,
      "metadata": {
        "collapsed": false
      },
      "outputs": [],
      "source": [
        "output_length = len(task.class_labels)\ninput_length = X_train.shape[1]\n\n# Create MXNet Variables\ndata = mx.sym.var('data')\nlabel = mx.sym.var('softmax_label')\n\n# Create the MXNet Module API model\nbnorm = mx.sym.BatchNorm(data=data)\nfc1 = mx.sym.FullyConnected(data=bnorm, num_hidden=1024)\nact1 = mx.sym.Activation(data=fc1, act_type=\"relu\")\ndrop1 = mx.sym.Dropout(data=act1, p=0.4)\nfc2 = mx.sym.FullyConnected(data=drop1, num_hidden=output_length)\nmlp = mx.sym.SoftmaxOutput(data=fc2, name='softmax', label=label)\nmlp_model = mx.mod.Module(symbol=mlp, context=mx.cpu())\n\ndata_shapes = [('data', X_train.shape)]\nlabel_shapes = [('softmax_label', y_train.shape)]\n\n# Bind and initialize parameters\nmlp_model.bind(data_shapes=data_shapes, label_shapes=label_shapes)\nmlp_model.init_params(mx.init.Xavier())\n\n# Save the parameters and symbol to files\nmlp_model.save_params(MXNET_PARAMS_PATH_DEFAULT)\nmlp.save(MXNET_SYMBOL_PATH_DEFAULT)\n\n# Export the ONNX specification of the model, using the parameters and symbol files\nonnx_mxnet.export_model(\n    sym=MXNET_SYMBOL_PATH_DEFAULT,\n    params=MXNET_PARAMS_PATH_DEFAULT,\n    input_shape=[(64, input_length)],\n    onnx_file_path=ONNX_FILE_PATH_DEFAULT)"
      ]
    },
    {
      "cell_type": "markdown",
      "metadata": {},
      "source": [
        "Load ONNX file and remove files\n\n"
      ]
    },
    {
      "cell_type": "code",
      "execution_count": null,
      "metadata": {
        "collapsed": false
      },
      "outputs": [],
      "source": [
        "model = onnx.load_model(ONNX_FILE_PATH_DEFAULT)\nif os.path.exists(MXNET_PARAMS_PATH_DEFAULT):\n    os.remove(MXNET_PARAMS_PATH_DEFAULT)\nif os.path.exists(MXNET_SYMBOL_PATH_DEFAULT):\n    os.remove(MXNET_SYMBOL_PATH_DEFAULT)\nif os.path.exists(ONNX_FILE_PATH_DEFAULT):\n    os.remove(ONNX_FILE_PATH_DEFAULT)"
      ]
    },
    {
      "cell_type": "markdown",
      "metadata": {},
      "source": [
        "Run the model on the task (requires an API key).\n\n"
      ]
    },
    {
      "cell_type": "code",
      "execution_count": null,
      "metadata": {
        "collapsed": false
      },
      "outputs": [],
      "source": [
        "run = openml.runs.run_model_on_task(model, task, avoid_duplicate_runs=False)\n# Publish the experiment on OpenML (optional, requires an API key).\nrun.publish()\n\nprint('URL for run: %s/run/%d' % (openml.config.server, run.run_id))"
      ]
    }
  ],
  "metadata": {
    "kernelspec": {
      "display_name": "Python 3",
      "language": "python",
      "name": "python3"
    },
    "language_info": {
      "codemirror_mode": {
        "name": "ipython",
        "version": 3
      },
      "file_extension": ".py",
      "mimetype": "text/x-python",
      "name": "python",
      "nbconvert_exporter": "python",
      "pygments_lexer": "ipython3",
      "version": "3.7.3"
    }
  },
  "nbformat": 4,
  "nbformat_minor": 0
}