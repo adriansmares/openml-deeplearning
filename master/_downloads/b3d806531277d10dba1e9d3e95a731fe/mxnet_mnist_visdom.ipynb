{
  "cells": [
    {
      "cell_type": "code",
      "execution_count": null,
      "metadata": {
        "collapsed": false
      },
      "outputs": [],
      "source": [
        "%matplotlib inline"
      ]
    },
    {
      "cell_type": "markdown",
      "metadata": {},
      "source": [
        "\nMXNet Visdom visualization example\n==================\n\nAn example of how to configuration hooks can be used to draw the learning curve\nand the loss in real time.\n"
      ]
    },
    {
      "cell_type": "code",
      "execution_count": null,
      "metadata": {
        "collapsed": false
      },
      "outputs": [],
      "source": [
        "import mxnet\n\nimport openml\nimport openml.extensions.mxnet\n\nimport logging\n\nfrom visdom import Visdom\nimport numpy as np\n\nopenml.config.logger.setLevel(logging.DEBUG)\nopenml.extensions.mxnet.config.logger.setLevel(logging.DEBUG)"
      ]
    },
    {
      "cell_type": "markdown",
      "metadata": {},
      "source": [
        "Create a wrapper around the Vidsom communication object.\nBased on https://github.com/noagarcia/visdom-tutorial\n\n"
      ]
    },
    {
      "cell_type": "code",
      "execution_count": null,
      "metadata": {
        "collapsed": false
      },
      "outputs": [],
      "source": [
        "class VisdomLinePlotter(openml.extensions.mxnet.Config):\n\n    def __init__(self, env_name='main'):\n        super().__init__()\n        self.viz = Visdom()\n        self.env = env_name\n        self.plots = {}\n\n    def plot(self, var_name, split_name, title_name, x, y):\n        if var_name not in self.plots:\n            self.plots[var_name] = self.viz.line(\n                X=np.array([x, x]),\n                Y=np.array([y, y]),\n                env=self.env,\n                opts=dict(\n                    legend=[split_name],\n                    title=title_name,\n                    xlabel='Iterations',\n                    ylabel=var_name\n                )\n            )\n        else:\n            self.viz.line(X=np.array([x]), Y=np.array([y]), env=self.env,\n                          win=self.plots[var_name], name=split_name, update='append')\n\n    # This is the actual interface of the progress reporting callback. The MXNet\n    # extension will call this function after every training iteration with the updated\n    # loss and accuracy values.\n    def progress_callback(self, fold: int, rep: int, epoch: int, step: int,\n                          loss: mxnet.ndarray.NDArray,\n                          metric: mxnet.metric.EvalMetric):\n        loss = loss.mean().asscalar()\n\n        for (name, value) in zip(*metric.get()):\n            self.plot(name, 'fold-%d-rep-%d-epoch-%d' % (fold, rep, epoch),\n                      'Class %s' % name, epoch * 984 + step, value)\n\n        self.plot('loss', 'fold-%d-rep-%d-epoch-%d' % (fold, rep, epoch),\n                  'Class loss', epoch * 984 + step, loss)"
      ]
    },
    {
      "cell_type": "markdown",
      "metadata": {},
      "source": [
        "Change the default progress callback to the Visdom plotter.\n\n"
      ]
    },
    {
      "cell_type": "code",
      "execution_count": null,
      "metadata": {
        "collapsed": false
      },
      "outputs": [],
      "source": [
        "openml.extensions.mxnet.config.active = VisdomLinePlotter()"
      ]
    },
    {
      "cell_type": "markdown",
      "metadata": {},
      "source": [
        "A sequential network used for classification on the MNIST dataset.\n\n"
      ]
    },
    {
      "cell_type": "code",
      "execution_count": null,
      "metadata": {
        "collapsed": false
      },
      "outputs": [],
      "source": [
        "with mxnet.Context(mxnet.gpu(0)):\n    model = mxnet.gluon.nn.HybridSequential()\n    with model.name_scope():\n        model.add(\n            mxnet.gluon.nn.HybridLambda(lambda F, x: F.reshape(x, shape=(-1, 1, 28, 28))),\n            mxnet.gluon.nn.BatchNorm(),\n            mxnet.gluon.nn.Conv2D(channels=32, kernel_size=5),\n            mxnet.gluon.nn.LeakyReLU(alpha=1e-2),\n            mxnet.gluon.nn.MaxPool2D(),\n            mxnet.gluon.nn.Conv2D(channels=64, kernel_size=5),\n            mxnet.gluon.nn.LeakyReLU(alpha=1e-2),\n            mxnet.gluon.nn.MaxPool2D(),\n            mxnet.gluon.nn.Flatten(),\n            mxnet.gluon.nn.Dense(units=256),\n            mxnet.gluon.nn.LeakyReLU(alpha=1e-2),\n            mxnet.gluon.nn.Dropout(rate=0.2),\n            mxnet.gluon.nn.Dense(units=10)\n        )\n    ############################################################################\n\n    ############################################################################\n    # Download the OpenML task for the mnist 784 dataset.\n    task = openml.tasks.get_task(3573)\n    # Run the model\n    run = openml.runs.run_model_on_task(model, task, avoid_duplicate_runs=False)\n    run.publish()"
      ]
    }
  ],
  "metadata": {
    "kernelspec": {
      "display_name": "Python 3",
      "language": "python",
      "name": "python3"
    },
    "language_info": {
      "codemirror_mode": {
        "name": "ipython",
        "version": 3
      },
      "file_extension": ".py",
      "mimetype": "text/x-python",
      "name": "python",
      "nbconvert_exporter": "python",
      "pygments_lexer": "ipython3",
      "version": "3.7.3"
    }
  },
  "nbformat": 4,
  "nbformat_minor": 0
}